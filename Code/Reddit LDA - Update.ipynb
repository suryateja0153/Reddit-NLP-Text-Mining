{
 "cells": [
  {
   "cell_type": "code",
   "execution_count": 1,
   "metadata": {},
   "outputs": [
    {
     "name": "stderr",
     "output_type": "stream",
     "text": [
      "[nltk_data] Downloading package wordnet to\n",
      "[nltk_data]     C:\\Users\\surya\\AppData\\Roaming\\nltk_data...\n",
      "[nltk_data]   Package wordnet is already up-to-date!\n"
     ]
    },
    {
     "data": {
      "text/plain": [
       "True"
      ]
     },
     "execution_count": 1,
     "metadata": {},
     "output_type": "execute_result"
    }
   ],
   "source": [
    "# importing required libraries\n",
    "import re\n",
    "import os\n",
    "import time\n",
    "import gensim\n",
    "import requests\n",
    "import numpy as np\n",
    "import pandas as pd\n",
    "from gensim.utils import simple_preprocess\n",
    "from gensim.parsing.preprocessing import STOPWORDS\n",
    "from nltk.stem import WordNetLemmatizer, SnowballStemmer\n",
    "from nltk.stem.porter import *\n",
    "np.random.seed(2021)\n",
    "import nltk\n",
    "nltk.download('wordnet')"
   ]
  },
  {
   "cell_type": "code",
   "execution_count": 2,
   "metadata": {},
   "outputs": [
    {
     "name": "stderr",
     "output_type": "stream",
     "text": [
      "C:\\Users\\surya\\anaconda3\\lib\\site-packages\\IPython\\core\\interactiveshell.py:3071: DtypeWarning: Columns (81) have mixed types.Specify dtype option on import or set low_memory=False.\n",
      "  has_raised = await self.run_ast_nodes(code_ast.body, cell_name,\n"
     ]
    }
   ],
   "source": [
    "df = pd.read_csv('combined-csv-files.csv')"
   ]
  },
  {
   "cell_type": "code",
   "execution_count": 3,
   "metadata": {},
   "outputs": [],
   "source": [
    "df_lda = pd.DataFrame()\n",
    "df_lda['post_content'] = df['post_content'].values"
   ]
  },
  {
   "cell_type": "code",
   "execution_count": 4,
   "metadata": {},
   "outputs": [],
   "source": [
    "df_lda = df_lda.dropna()\n",
    "df_lda = df_lda.reset_index(drop=True)"
   ]
  },
  {
   "cell_type": "code",
   "execution_count": 5,
   "metadata": {},
   "outputs": [
    {
     "data": {
      "text/html": [
       "<div>\n",
       "<style scoped>\n",
       "    .dataframe tbody tr th:only-of-type {\n",
       "        vertical-align: middle;\n",
       "    }\n",
       "\n",
       "    .dataframe tbody tr th {\n",
       "        vertical-align: top;\n",
       "    }\n",
       "\n",
       "    .dataframe thead th {\n",
       "        text-align: right;\n",
       "    }\n",
       "</style>\n",
       "<table border=\"1\" class=\"dataframe\">\n",
       "  <thead>\n",
       "    <tr style=\"text-align: right;\">\n",
       "      <th></th>\n",
       "      <th>post_content</th>\n",
       "      <th>index</th>\n",
       "    </tr>\n",
       "  </thead>\n",
       "  <tbody>\n",
       "    <tr>\n",
       "      <th>0</th>\n",
       "      <td>Hey, so Iâ€™m experiencing a burning sensation...</td>\n",
       "      <td>0</td>\n",
       "    </tr>\n",
       "    <tr>\n",
       "      <th>1</th>\n",
       "      <td>Sounds like a panic attack. I had the same thi...</td>\n",
       "      <td>1</td>\n",
       "    </tr>\n",
       "    <tr>\n",
       "      <th>2</th>\n",
       "      <td>I really hope so. Every time I think I have it...</td>\n",
       "      <td>2</td>\n",
       "    </tr>\n",
       "    <tr>\n",
       "      <th>3</th>\n",
       "      <td>I tested POSITIVE for COVID19. I had something...</td>\n",
       "      <td>3</td>\n",
       "    </tr>\n",
       "    <tr>\n",
       "      <th>4</th>\n",
       "      <td>Wow, I really wish you a safe and speedy recov...</td>\n",
       "      <td>4</td>\n",
       "    </tr>\n",
       "    <tr>\n",
       "      <th>...</th>\n",
       "      <td>...</td>\n",
       "      <td>...</td>\n",
       "    </tr>\n",
       "    <tr>\n",
       "      <th>39054</th>\n",
       "      <td>I would call the hospital. See if they reccome...</td>\n",
       "      <td>39054</td>\n",
       "    </tr>\n",
       "    <tr>\n",
       "      <th>39055</th>\n",
       "      <td>Get the antibodies, I would get help sooner th...</td>\n",
       "      <td>39055</td>\n",
       "    </tr>\n",
       "    <tr>\n",
       "      <th>39056</th>\n",
       "      <td>I'm late seeing this post, to the original pos...</td>\n",
       "      <td>39056</td>\n",
       "    </tr>\n",
       "    <tr>\n",
       "      <th>39057</th>\n",
       "      <td>91% isnâ€™t that bad. \\nYou really shouldnâ€™t...</td>\n",
       "      <td>39057</td>\n",
       "    </tr>\n",
       "    <tr>\n",
       "      <th>39058</th>\n",
       "      <td>Thank you for your submission!\\n\\nPlease remem...</td>\n",
       "      <td>39058</td>\n",
       "    </tr>\n",
       "  </tbody>\n",
       "</table>\n",
       "<p>39059 rows × 2 columns</p>\n",
       "</div>"
      ],
      "text/plain": [
       "                                            post_content  index\n",
       "0      Hey, so Iâ€™m experiencing a burning sensation...      0\n",
       "1      Sounds like a panic attack. I had the same thi...      1\n",
       "2      I really hope so. Every time I think I have it...      2\n",
       "3      I tested POSITIVE for COVID19. I had something...      3\n",
       "4      Wow, I really wish you a safe and speedy recov...      4\n",
       "...                                                  ...    ...\n",
       "39054  I would call the hospital. See if they reccome...  39054\n",
       "39055  Get the antibodies, I would get help sooner th...  39055\n",
       "39056  I'm late seeing this post, to the original pos...  39056\n",
       "39057  91% isnâ€™t that bad. \\nYou really shouldnâ€™t...  39057\n",
       "39058  Thank you for your submission!\\n\\nPlease remem...  39058\n",
       "\n",
       "[39059 rows x 2 columns]"
      ]
     },
     "execution_count": 5,
     "metadata": {},
     "output_type": "execute_result"
    }
   ],
   "source": [
    "df_lda['index'] = df_lda.index\n",
    "documents = df_lda\n",
    "documents"
   ]
  },
  {
   "cell_type": "code",
   "execution_count": 6,
   "metadata": {},
   "outputs": [],
   "source": [
    "def lemmatize_stemming(text):\n",
    "    stemmer = SnowballStemmer('english')\n",
    "    return stemmer.stem(WordNetLemmatizer().lemmatize(text, pos='v'))\n",
    "\n",
    "def preprocess(text):\n",
    "    result = []\n",
    "    for token in gensim.utils.simple_preprocess(text):\n",
    "        if token not in gensim.parsing.preprocessing.STOPWORDS and len(token) > 3:\n",
    "            result.append(lemmatize_stemming(token))\n",
    "    return result"
   ]
  },
  {
   "cell_type": "code",
   "execution_count": 7,
   "metadata": {},
   "outputs": [
    {
     "name": "stdout",
     "output_type": "stream",
     "text": [
      "original document: \n",
      "['Wow,', 'I', 'really', 'wish', 'you', 'a', 'safe', 'and', 'speedy', 'recovery.', 'How', 'long', 'have', 'you', 'been', 'positive?', 'Are', 'you', 'scared', 'that', 'you', 'might', 'need', 'to', 'go', 'to', 'the', 'ER?']\n",
      "\n",
      "\n",
      " tokenized and lemmatized document: \n",
      "['wish', 'safe', 'speedi', 'recoveri', 'long', 'posit', 'scar', 'need']\n"
     ]
    }
   ],
   "source": [
    "doc_sample = documents[documents['index'] == 4].values[0][0]\n",
    "\n",
    "print('original document: ')\n",
    "words = []\n",
    "for word in doc_sample.split(' '):\n",
    "    words.append(word)\n",
    "print(words)\n",
    "print('\\n\\n tokenized and lemmatized document: ')\n",
    "print(preprocess(doc_sample))"
   ]
  },
  {
   "cell_type": "code",
   "execution_count": 8,
   "metadata": {},
   "outputs": [
    {
     "data": {
      "text/plain": [
       "0        [experi, burn, sensat, right, middl, chest, co...\n",
       "1        [sound, like, panic, attack, thing, begin, iso...\n",
       "2        [hope, time, think, hold, breath, long, hold, ...\n",
       "3        [test, posit, covid, similar, lung, headach, f...\n",
       "4        [wish, safe, speedi, recoveri, long, posit, sc...\n",
       "                               ...                        \n",
       "39054    [hospit, reccomend, come, inhal, tell, concern...\n",
       "39055               [antibodi, help, sooner, later, fight]\n",
       "39056    [late, see, post, origin, poster, share, stori...\n",
       "39057    [isnâ, shouldnâ, concern, reach, go, indic, yo...\n",
       "39058    [thank, submiss, rememb, read, rule, ensur, po...\n",
       "Name: post_content, Length: 39059, dtype: object"
      ]
     },
     "execution_count": 8,
     "metadata": {},
     "output_type": "execute_result"
    }
   ],
   "source": [
    "processed_docs = documents['post_content'].map(preprocess)\n",
    "processed_docs"
   ]
  },
  {
   "cell_type": "markdown",
   "metadata": {},
   "source": [
    "#### BOW"
   ]
  },
  {
   "cell_type": "code",
   "execution_count": 9,
   "metadata": {},
   "outputs": [
    {
     "name": "stdout",
     "output_type": "stream",
     "text": [
      "0 burn\n",
      "1 chest\n",
      "2 cough\n",
      "3 covid\n",
      "4 experi\n",
      "5 havenâ\n",
      "6 middl\n",
      "7 overreact\n",
      "8 relat\n",
      "9 right\n",
      "10 sensat\n"
     ]
    }
   ],
   "source": [
    "dictionary = gensim.corpora.Dictionary(processed_docs)\n",
    "count = 0\n",
    "for k, v in dictionary.iteritems():\n",
    "    print(k, v)\n",
    "    count += 1\n",
    "    if count > 10:\n",
    "        break"
   ]
  },
  {
   "cell_type": "code",
   "execution_count": 10,
   "metadata": {},
   "outputs": [],
   "source": [
    "dictionary.filter_extremes(no_below=15, no_above=0.5, keep_n=100000)"
   ]
  },
  {
   "cell_type": "markdown",
   "metadata": {},
   "source": [
    "#### Gensim doc2bow"
   ]
  },
  {
   "cell_type": "code",
   "execution_count": 11,
   "metadata": {},
   "outputs": [
    {
     "data": {
      "text/plain": [
       "[(26, 1), (34, 1), (40, 1), (41, 1), (42, 1), (43, 1), (44, 1), (45, 1)]"
      ]
     },
     "execution_count": 11,
     "metadata": {},
     "output_type": "execute_result"
    }
   ],
   "source": [
    "bow_corpus = [dictionary.doc2bow(doc) for doc in processed_docs]\n",
    "bow_corpus[4]"
   ]
  },
  {
   "cell_type": "code",
   "execution_count": 12,
   "metadata": {},
   "outputs": [
    {
     "name": "stdout",
     "output_type": "stream",
     "text": [
      "Word 26 (\"long\") appears 1 time.\n",
      "Word 34 (\"posit\") appears 1 time.\n",
      "Word 40 (\"need\") appears 1 time.\n",
      "Word 41 (\"recoveri\") appears 1 time.\n",
      "Word 42 (\"safe\") appears 1 time.\n",
      "Word 43 (\"scar\") appears 1 time.\n",
      "Word 44 (\"speedi\") appears 1 time.\n",
      "Word 45 (\"wish\") appears 1 time.\n"
     ]
    }
   ],
   "source": [
    "bow_doc_4 = bow_corpus[4]\n",
    "for i in range(len(bow_doc_4)):\n",
    "    print(\"Word {} (\\\"{}\\\") appears {} time.\".format(bow_doc_4[i][0], \n",
    "                                               dictionary[bow_doc_4[i][0]], \n",
    "bow_doc_4[i][1]))"
   ]
  },
  {
   "cell_type": "markdown",
   "metadata": {},
   "source": [
    "#### TF-IDF"
   ]
  },
  {
   "cell_type": "code",
   "execution_count": 13,
   "metadata": {},
   "outputs": [
    {
     "name": "stdout",
     "output_type": "stream",
     "text": [
      "[(0, 0.29952230827039616),\n",
      " (1, 0.21299857368565608),\n",
      " (2, 0.18070336398167702),\n",
      " (3, 0.08893386976084357),\n",
      " (4, 0.19854932216994936),\n",
      " (5, 0.30058642538983177),\n",
      " (6, 0.3676221123492878),\n",
      " (7, 0.46620073546823254),\n",
      " (8, 0.2805737356475635),\n",
      " (9, 0.1324365446187328),\n",
      " (10, 0.3470843989810606),\n",
      " (11, 0.2713600210339164),\n",
      " (12, 0.1972323962427399),\n",
      " (13, 0.11325352605661813)]\n"
     ]
    }
   ],
   "source": [
    "from gensim import corpora, models\n",
    "tfidf = models.TfidfModel(bow_corpus)\n",
    "corpus_tfidf = tfidf[bow_corpus]\n",
    "from pprint import pprint\n",
    "for doc in corpus_tfidf:\n",
    "    pprint(doc)\n",
    "    break"
   ]
  },
  {
   "cell_type": "markdown",
   "metadata": {},
   "source": [
    "#### LDA using BOW"
   ]
  },
  {
   "cell_type": "code",
   "execution_count": 14,
   "metadata": {},
   "outputs": [],
   "source": [
    "lda_model = gensim.models.LdaMulticore(bow_corpus, num_topics=10, id2word=dictionary, passes=2, workers=2)"
   ]
  },
  {
   "cell_type": "code",
   "execution_count": 15,
   "metadata": {},
   "outputs": [
    {
     "name": "stdout",
     "output_type": "stream",
     "text": [
      "Topic: 0 \n",
      "Words: 0.058*\"time\" + 0.032*\"thank\" + 0.030*\"hand\" + 0.030*\"post\" + 0.030*\"question\" + 0.030*\"rule\" + 0.030*\"kind\" + 0.030*\"read\" + 0.029*\"comment\" + 0.029*\"concern\"\n",
      "Topic: 1 \n",
      "Words: 0.032*\"test\" + 0.019*\"virus\" + 0.017*\"posit\" + 0.013*\"take\" + 0.012*\"time\" + 0.012*\"sure\" + 0.011*\"infect\" + 0.011*\"know\" + 0.011*\"negat\" + 0.011*\"go\"\n",
      "Topic: 2 \n",
      "Words: 0.058*\"https\" + 0.044*\"covid\" + 0.043*\"remov\" + 0.026*\"reddit\" + 0.024*\"post\" + 0.017*\"posit\" + 0.016*\"articl\" + 0.014*\"comment\" + 0.013*\"messag\" + 0.011*\"question\"\n",
      "Topic: 3 \n",
      "Words: 0.041*\"smell\" + 0.025*\"test\" + 0.022*\"tast\" + 0.019*\"covid\" + 0.018*\"posit\" + 0.016*\"symptom\" + 0.014*\"like\" + 0.012*\"day\" + 0.012*\"lose\" + 0.011*\"thing\"\n",
      "Topic: 4 \n",
      "Words: 0.046*\"test\" + 0.041*\"covid\" + 0.017*\"symptom\" + 0.016*\"posit\" + 0.013*\"antibodi\" + 0.011*\"negat\" + 0.011*\"doctor\" + 0.011*\"vaccin\" + 0.010*\"result\" + 0.009*\"get\"\n",
      "Topic: 5 \n",
      "Words: 0.043*\"test\" + 0.038*\"symptom\" + 0.025*\"fever\" + 0.023*\"day\" + 0.023*\"cough\" + 0.020*\"feel\" + 0.018*\"posit\" + 0.016*\"throat\" + 0.013*\"headach\" + 0.012*\"sore\"\n",
      "Topic: 6 \n",
      "Words: 0.029*\"pain\" + 0.024*\"like\" + 0.024*\"feel\" + 0.021*\"symptom\" + 0.016*\"go\" + 0.015*\"covid\" + 0.014*\"chest\" + 0.011*\"think\" + 0.010*\"anxieti\" + 0.010*\"week\"\n",
      "Topic: 7 \n",
      "Words: 0.018*\"breath\" + 0.016*\"feel\" + 0.016*\"like\" + 0.013*\"go\" + 0.013*\"heart\" + 0.013*\"week\" + 0.011*\"sleep\" + 0.010*\"time\" + 0.010*\"help\" + 0.009*\"lung\"\n",
      "Topic: 8 \n",
      "Words: 0.028*\"peopl\" + 0.023*\"vaccin\" + 0.015*\"know\" + 0.013*\"thank\" + 0.013*\"mask\" + 0.013*\"covid\" + 0.010*\"think\" + 0.009*\"like\" + 0.009*\"go\" + 0.009*\"wear\"\n",
      "Topic: 9 \n",
      "Words: 0.020*\"feel\" + 0.018*\"like\" + 0.018*\"better\" + 0.015*\"tast\" + 0.015*\"hope\" + 0.013*\"thing\" + 0.012*\"help\" + 0.012*\"think\" + 0.012*\"sorri\" + 0.011*\"smell\"\n"
     ]
    }
   ],
   "source": [
    "for idx, topic in lda_model.print_topics(-1):\n",
    "    print('Topic: {} \\nWords: {}'.format(idx, topic))"
   ]
  },
  {
   "cell_type": "markdown",
   "metadata": {},
   "source": [
    "#### LDA using TF-IDF"
   ]
  },
  {
   "cell_type": "code",
   "execution_count": 16,
   "metadata": {},
   "outputs": [
    {
     "name": "stdout",
     "output_type": "stream",
     "text": [
      "Topic: 0 Word: 0.018*\"better\" + 0.016*\"glad\" + 0.015*\"hope\" + 0.012*\"youâ\" + 0.012*\"thank\" + 0.011*\"feel\" + 0.009*\"okay\" + 0.007*\"time\" + 0.006*\"lose\" + 0.006*\"smell\"\n",
      "Topic: 1 Word: 0.011*\"https\" + 0.007*\"covid\" + 0.007*\"hope\" + 0.007*\"test\" + 0.007*\"soon\" + 0.007*\"reddit\" + 0.007*\"blood\" + 0.006*\"peopl\" + 0.006*\"good\" + 0.005*\"symptom\"\n",
      "Topic: 2 Word: 0.053*\"delet\" + 0.010*\"test\" + 0.007*\"symptom\" + 0.006*\"like\" + 0.006*\"day\" + 0.006*\"week\" + 0.005*\"sound\" + 0.005*\"fever\" + 0.005*\"know\" + 0.005*\"covid\"\n",
      "Topic: 3 Word: 0.011*\"test\" + 0.009*\"peopl\" + 0.007*\"vaccin\" + 0.007*\"mask\" + 0.006*\"know\" + 0.006*\"wish\" + 0.006*\"virus\" + 0.006*\"think\" + 0.006*\"antibodi\" + 0.005*\"symptom\"\n",
      "Topic: 4 Word: 0.007*\"help\" + 0.007*\"peopl\" + 0.006*\"hope\" + 0.006*\"chat\" + 0.006*\"situat\" + 0.006*\"place\" + 0.006*\"covid\" + 0.005*\"current\" + 0.005*\"thread\" + 0.005*\"allow\"\n",
      "Topic: 5 Word: 0.043*\"time\" + 0.031*\"despair\" + 0.031*\"align\" + 0.030*\"automat\" + 0.030*\"compos\" + 0.030*\"perform\" + 0.030*\"submiss\" + 0.030*\"purpos\" + 0.030*\"toler\" + 0.030*\"ensur\"\n",
      "Topic: 6 Word: 0.047*\"thank\" + 0.022*\"sorri\" + 0.021*\"test\" + 0.011*\"updat\" + 0.010*\"loss\" + 0.010*\"know\" + 0.009*\"day\" + 0.008*\"negat\" + 0.008*\"hear\" + 0.008*\"posit\"\n",
      "Topic: 7 Word: 0.013*\"test\" + 0.012*\"symptom\" + 0.012*\"feel\" + 0.009*\"cough\" + 0.009*\"fever\" + 0.009*\"day\" + 0.008*\"throat\" + 0.008*\"like\" + 0.007*\"pain\" + 0.007*\"week\"\n",
      "Topic: 8 Word: 0.016*\"smell\" + 0.014*\"tast\" + 0.009*\"symptom\" + 0.009*\"week\" + 0.007*\"month\" + 0.007*\"like\" + 0.007*\"vaccin\" + 0.007*\"day\" + 0.007*\"lose\" + 0.006*\"think\"\n",
      "Topic: 9 Word: 0.074*\"remov\" + 0.008*\"check\" + 0.008*\"vitamin\" + 0.007*\"oxygen\" + 0.007*\"level\" + 0.006*\"drink\" + 0.006*\"help\" + 0.006*\"doctor\" + 0.005*\"water\" + 0.005*\"anxieti\"\n"
     ]
    }
   ],
   "source": [
    "lda_model_tfidf = gensim.models.LdaMulticore(corpus_tfidf, num_topics=10, id2word=dictionary, passes=2, workers=4)\n",
    "for idx, topic in lda_model_tfidf.print_topics(-1):\n",
    "    print('Topic: {} Word: {}'.format(idx, topic))"
   ]
  },
  {
   "cell_type": "code",
   "execution_count": 17,
   "metadata": {},
   "outputs": [
    {
     "data": {
      "text/plain": [
       "['wish', 'safe', 'speedi', 'recoveri', 'long', 'posit', 'scar', 'need']"
      ]
     },
     "execution_count": 17,
     "metadata": {},
     "output_type": "execute_result"
    }
   ],
   "source": [
    "processed_docs[4]"
   ]
  },
  {
   "cell_type": "code",
   "execution_count": 18,
   "metadata": {},
   "outputs": [
    {
     "name": "stdout",
     "output_type": "stream",
     "text": [
      "\n",
      "Score: 0.8999670743942261\t \n",
      "Topic: 0.028*\"peopl\" + 0.023*\"vaccin\" + 0.015*\"know\" + 0.013*\"thank\" + 0.013*\"mask\" + 0.013*\"covid\" + 0.010*\"think\" + 0.009*\"like\" + 0.009*\"go\" + 0.009*\"wear\"\n",
      "\n",
      "Score: 0.011115937493741512\t \n",
      "Topic: 0.058*\"time\" + 0.032*\"thank\" + 0.030*\"hand\" + 0.030*\"post\" + 0.030*\"question\" + 0.030*\"rule\" + 0.030*\"kind\" + 0.030*\"read\" + 0.029*\"comment\" + 0.029*\"concern\"\n",
      "\n",
      "Score: 0.011115716770291328\t \n",
      "Topic: 0.020*\"feel\" + 0.018*\"like\" + 0.018*\"better\" + 0.015*\"tast\" + 0.015*\"hope\" + 0.013*\"thing\" + 0.012*\"help\" + 0.012*\"think\" + 0.012*\"sorri\" + 0.011*\"smell\"\n",
      "\n",
      "Score: 0.011115482077002525\t \n",
      "Topic: 0.046*\"test\" + 0.041*\"covid\" + 0.017*\"symptom\" + 0.016*\"posit\" + 0.013*\"antibodi\" + 0.011*\"negat\" + 0.011*\"doctor\" + 0.011*\"vaccin\" + 0.010*\"result\" + 0.009*\"get\"\n",
      "\n",
      "Score: 0.011115405708551407\t \n",
      "Topic: 0.041*\"smell\" + 0.025*\"test\" + 0.022*\"tast\" + 0.019*\"covid\" + 0.018*\"posit\" + 0.016*\"symptom\" + 0.014*\"like\" + 0.012*\"day\" + 0.012*\"lose\" + 0.011*\"thing\"\n",
      "\n",
      "Score: 0.011115049012005329\t \n",
      "Topic: 0.043*\"test\" + 0.038*\"symptom\" + 0.025*\"fever\" + 0.023*\"day\" + 0.023*\"cough\" + 0.020*\"feel\" + 0.018*\"posit\" + 0.016*\"throat\" + 0.013*\"headach\" + 0.012*\"sore\"\n",
      "\n",
      "Score: 0.011114771477878094\t \n",
      "Topic: 0.032*\"test\" + 0.019*\"virus\" + 0.017*\"posit\" + 0.013*\"take\" + 0.012*\"time\" + 0.012*\"sure\" + 0.011*\"infect\" + 0.011*\"know\" + 0.011*\"negat\" + 0.011*\"go\"\n",
      "\n",
      "Score: 0.011114674620330334\t \n",
      "Topic: 0.058*\"https\" + 0.044*\"covid\" + 0.043*\"remov\" + 0.026*\"reddit\" + 0.024*\"post\" + 0.017*\"posit\" + 0.016*\"articl\" + 0.014*\"comment\" + 0.013*\"messag\" + 0.011*\"question\"\n",
      "\n",
      "Score: 0.011113056913018227\t \n",
      "Topic: 0.029*\"pain\" + 0.024*\"like\" + 0.024*\"feel\" + 0.021*\"symptom\" + 0.016*\"go\" + 0.015*\"covid\" + 0.014*\"chest\" + 0.011*\"think\" + 0.010*\"anxieti\" + 0.010*\"week\"\n",
      "\n",
      "Score: 0.011112869717180729\t \n",
      "Topic: 0.018*\"breath\" + 0.016*\"feel\" + 0.016*\"like\" + 0.013*\"go\" + 0.013*\"heart\" + 0.013*\"week\" + 0.011*\"sleep\" + 0.010*\"time\" + 0.010*\"help\" + 0.009*\"lung\"\n"
     ]
    }
   ],
   "source": [
    "for index, score in sorted(lda_model[bow_corpus[4]], key=lambda tup: -1*tup[1]):\n",
    "    print(\"\\nScore: {}\\t \\nTopic: {}\".format(score, lda_model.print_topic(index, 10)))"
   ]
  },
  {
   "cell_type": "code",
   "execution_count": 19,
   "metadata": {},
   "outputs": [
    {
     "name": "stdout",
     "output_type": "stream",
     "text": [
      "\n",
      "Score: 0.8999711871147156\t \n",
      "Topic: 0.011*\"test\" + 0.009*\"peopl\" + 0.007*\"vaccin\" + 0.007*\"mask\" + 0.006*\"know\" + 0.006*\"wish\" + 0.006*\"virus\" + 0.006*\"think\" + 0.006*\"antibodi\" + 0.005*\"symptom\"\n",
      "\n",
      "Score: 0.0111159048974514\t \n",
      "Topic: 0.018*\"better\" + 0.016*\"glad\" + 0.015*\"hope\" + 0.012*\"youâ\" + 0.012*\"thank\" + 0.011*\"feel\" + 0.009*\"okay\" + 0.007*\"time\" + 0.006*\"lose\" + 0.006*\"smell\"\n",
      "\n",
      "Score: 0.011115079745650291\t \n",
      "Topic: 0.047*\"thank\" + 0.022*\"sorri\" + 0.021*\"test\" + 0.011*\"updat\" + 0.010*\"loss\" + 0.010*\"know\" + 0.009*\"day\" + 0.008*\"negat\" + 0.008*\"hear\" + 0.008*\"posit\"\n",
      "\n",
      "Score: 0.01111462339758873\t \n",
      "Topic: 0.007*\"help\" + 0.007*\"peopl\" + 0.006*\"hope\" + 0.006*\"chat\" + 0.006*\"situat\" + 0.006*\"place\" + 0.006*\"covid\" + 0.005*\"current\" + 0.005*\"thread\" + 0.005*\"allow\"\n",
      "\n",
      "Score: 0.011114274151623249\t \n",
      "Topic: 0.016*\"smell\" + 0.014*\"tast\" + 0.009*\"symptom\" + 0.009*\"week\" + 0.007*\"month\" + 0.007*\"like\" + 0.007*\"vaccin\" + 0.007*\"day\" + 0.007*\"lose\" + 0.006*\"think\"\n",
      "\n",
      "Score: 0.011114194057881832\t \n",
      "Topic: 0.011*\"https\" + 0.007*\"covid\" + 0.007*\"hope\" + 0.007*\"test\" + 0.007*\"soon\" + 0.007*\"reddit\" + 0.007*\"blood\" + 0.006*\"peopl\" + 0.006*\"good\" + 0.005*\"symptom\"\n",
      "\n",
      "Score: 0.011114074848592281\t \n",
      "Topic: 0.053*\"delet\" + 0.010*\"test\" + 0.007*\"symptom\" + 0.006*\"like\" + 0.006*\"day\" + 0.006*\"week\" + 0.005*\"sound\" + 0.005*\"fever\" + 0.005*\"know\" + 0.005*\"covid\"\n",
      "\n",
      "Score: 0.011113750748336315\t \n",
      "Topic: 0.013*\"test\" + 0.012*\"symptom\" + 0.012*\"feel\" + 0.009*\"cough\" + 0.009*\"fever\" + 0.009*\"day\" + 0.008*\"throat\" + 0.008*\"like\" + 0.007*\"pain\" + 0.007*\"week\"\n",
      "\n",
      "Score: 0.01111359242349863\t \n",
      "Topic: 0.043*\"time\" + 0.031*\"despair\" + 0.031*\"align\" + 0.030*\"automat\" + 0.030*\"compos\" + 0.030*\"perform\" + 0.030*\"submiss\" + 0.030*\"purpos\" + 0.030*\"toler\" + 0.030*\"ensur\"\n",
      "\n",
      "Score: 0.011113371700048447\t \n",
      "Topic: 0.074*\"remov\" + 0.008*\"check\" + 0.008*\"vitamin\" + 0.007*\"oxygen\" + 0.007*\"level\" + 0.006*\"drink\" + 0.006*\"help\" + 0.006*\"doctor\" + 0.005*\"water\" + 0.005*\"anxieti\"\n"
     ]
    }
   ],
   "source": [
    "for index, score in sorted(lda_model_tfidf[bow_corpus[4]], key=lambda tup: -1*tup[1]):\n",
    "    print(\"\\nScore: {}\\t \\nTopic: {}\".format(score, lda_model_tfidf.print_topic(index, 10)))"
   ]
  },
  {
   "cell_type": "code",
   "execution_count": 20,
   "metadata": {},
   "outputs": [
    {
     "name": "stdout",
     "output_type": "stream",
     "text": [
      "Score: 0.8198050260543823\t Topic: 0.029*\"pain\" + 0.024*\"like\" + 0.024*\"feel\" + 0.021*\"symptom\" + 0.016*\"go\"\n",
      "Score: 0.020043853670358658\t Topic: 0.058*\"https\" + 0.044*\"covid\" + 0.043*\"remov\" + 0.026*\"reddit\" + 0.024*\"post\"\n",
      "Score: 0.020023411139845848\t Topic: 0.046*\"test\" + 0.041*\"covid\" + 0.017*\"symptom\" + 0.016*\"posit\" + 0.013*\"antibodi\"\n",
      "Score: 0.02001967839896679\t Topic: 0.028*\"peopl\" + 0.023*\"vaccin\" + 0.015*\"know\" + 0.013*\"thank\" + 0.013*\"mask\"\n",
      "Score: 0.020019616931676865\t Topic: 0.020*\"feel\" + 0.018*\"like\" + 0.018*\"better\" + 0.015*\"tast\" + 0.015*\"hope\"\n",
      "Score: 0.02001858316361904\t Topic: 0.032*\"test\" + 0.019*\"virus\" + 0.017*\"posit\" + 0.013*\"take\" + 0.012*\"time\"\n",
      "Score: 0.020018573850393295\t Topic: 0.018*\"breath\" + 0.016*\"feel\" + 0.016*\"like\" + 0.013*\"go\" + 0.013*\"heart\"\n",
      "Score: 0.0200177114456892\t Topic: 0.041*\"smell\" + 0.025*\"test\" + 0.022*\"tast\" + 0.019*\"covid\" + 0.018*\"posit\"\n",
      "Score: 0.020017357543110847\t Topic: 0.043*\"test\" + 0.038*\"symptom\" + 0.025*\"fever\" + 0.023*\"day\" + 0.023*\"cough\"\n",
      "Score: 0.020016184076666832\t Topic: 0.058*\"time\" + 0.032*\"thank\" + 0.030*\"hand\" + 0.030*\"post\" + 0.030*\"question\"\n"
     ]
    }
   ],
   "source": [
    "unseen_document = 'How a Pentagon deal became an identity crisis for Google'\n",
    "bow_vector = dictionary.doc2bow(preprocess(unseen_document))\n",
    "for index, score in sorted(lda_model[bow_vector], key=lambda tup: -1*tup[1]):\n",
    "    print(\"Score: {}\\t Topic: {}\".format(score, lda_model.print_topic(index, 5)))"
   ]
  },
  {
   "cell_type": "markdown",
   "metadata": {},
   "source": [
    "#### Document Term Matrix"
   ]
  },
  {
   "cell_type": "code",
   "execution_count": null,
   "metadata": {},
   "outputs": [],
   "source": [
    "dtm = np.zeros((39059,10), dtype=float)\n",
    "\n",
    "row = 0\n",
    "for doc in bow_corpus[0:39059]:\n",
    "    sm = lda_model_tfidf.get_document_topics(doc)\n",
    "    for e in sm:\n",
    "        dtm[row,e[0]] = e[1]\n",
    "    row = row + 1\n",
    "    \n",
    "cp = pd.DataFrame(dtm)\n",
    "\n",
    "cp.columns = ['Topic1', 'Topic2', 'Topic3', 'Topic4', 'Topic5', 'Topic6', 'Topic7', 'Topic8', 'Topic9', 'Topic10'] \n",
    "cp.insert(0, 'post_content', documents_ccf.post_content)\n",
    "\n",
    "cp.to_csv(\"Doc_Out.csv\")"
   ]
  }
 ],
 "metadata": {
  "kernelspec": {
   "display_name": "Python 3",
   "language": "python",
   "name": "python3"
  },
  "language_info": {
   "codemirror_mode": {
    "name": "ipython",
    "version": 3
   },
   "file_extension": ".py",
   "mimetype": "text/x-python",
   "name": "python",
   "nbconvert_exporter": "python",
   "pygments_lexer": "ipython3",
   "version": "3.8.3"
  }
 },
 "nbformat": 4,
 "nbformat_minor": 4
}
