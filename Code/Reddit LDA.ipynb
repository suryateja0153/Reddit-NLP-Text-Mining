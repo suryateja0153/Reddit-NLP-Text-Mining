{
 "cells": [
  {
   "cell_type": "code",
   "execution_count": 1,
   "metadata": {},
   "outputs": [
    {
     "name": "stderr",
     "output_type": "stream",
     "text": [
      "[nltk_data] Downloading package wordnet to\n",
      "[nltk_data]     C:\\Users\\surya\\AppData\\Roaming\\nltk_data...\n",
      "[nltk_data]   Package wordnet is already up-to-date!\n"
     ]
    },
    {
     "data": {
      "text/plain": [
       "True"
      ]
     },
     "execution_count": 1,
     "metadata": {},
     "output_type": "execute_result"
    }
   ],
   "source": [
    "# importing required libraries\n",
    "import re\n",
    "import os\n",
    "import time\n",
    "import gensim\n",
    "import requests\n",
    "import numpy as np\n",
    "import pandas as pd\n",
    "from gensim.utils import simple_preprocess\n",
    "from gensim.parsing.preprocessing import STOPWORDS\n",
    "from nltk.stem import WordNetLemmatizer, SnowballStemmer\n",
    "from nltk.stem.porter import *\n",
    "np.random.seed(2021)\n",
    "import nltk\n",
    "nltk.download('wordnet')"
   ]
  },
  {
   "cell_type": "code",
   "execution_count": 2,
   "metadata": {},
   "outputs": [
    {
     "name": "stderr",
     "output_type": "stream",
     "text": [
      "C:\\Users\\surya\\anaconda3\\lib\\site-packages\\IPython\\core\\interactiveshell.py:3071: DtypeWarning: Columns (81) have mixed types.Specify dtype option on import or set low_memory=False.\n",
      "  has_raised = await self.run_ast_nodes(code_ast.body, cell_name,\n"
     ]
    }
   ],
   "source": [
    "df = pd.read_csv('combined-csv-files.csv')"
   ]
  },
  {
   "cell_type": "code",
   "execution_count": 3,
   "metadata": {},
   "outputs": [],
   "source": [
    "df_lda = pd.DataFrame()\n",
    "df_lda['post_content'] = df['post_content'].values"
   ]
  },
  {
   "cell_type": "code",
   "execution_count": 4,
   "metadata": {},
   "outputs": [],
   "source": [
    "# df_lda = df_lda.dropna()\n",
    "np.where(pd.isnull(df_lda.post_content))\n",
    "df_lda.fillna('No Comment', inplace=True)\n",
    "df_lda = df_lda.reset_index(drop=True)"
   ]
  },
  {
   "cell_type": "code",
   "execution_count": 5,
   "metadata": {},
   "outputs": [
    {
     "data": {
      "text/html": [
       "<div>\n",
       "<style scoped>\n",
       "    .dataframe tbody tr th:only-of-type {\n",
       "        vertical-align: middle;\n",
       "    }\n",
       "\n",
       "    .dataframe tbody tr th {\n",
       "        vertical-align: top;\n",
       "    }\n",
       "\n",
       "    .dataframe thead th {\n",
       "        text-align: right;\n",
       "    }\n",
       "</style>\n",
       "<table border=\"1\" class=\"dataframe\">\n",
       "  <thead>\n",
       "    <tr style=\"text-align: right;\">\n",
       "      <th></th>\n",
       "      <th>post_content</th>\n",
       "      <th>index</th>\n",
       "    </tr>\n",
       "  </thead>\n",
       "  <tbody>\n",
       "    <tr>\n",
       "      <th>0</th>\n",
       "      <td>Hey, so Iâ€™m experiencing a burning sensation...</td>\n",
       "      <td>0</td>\n",
       "    </tr>\n",
       "    <tr>\n",
       "      <th>1</th>\n",
       "      <td>Sounds like a panic attack. I had the same thi...</td>\n",
       "      <td>1</td>\n",
       "    </tr>\n",
       "    <tr>\n",
       "      <th>2</th>\n",
       "      <td>I really hope so. Every time I think I have it...</td>\n",
       "      <td>2</td>\n",
       "    </tr>\n",
       "    <tr>\n",
       "      <th>3</th>\n",
       "      <td>I tested POSITIVE for COVID19. I had something...</td>\n",
       "      <td>3</td>\n",
       "    </tr>\n",
       "    <tr>\n",
       "      <th>4</th>\n",
       "      <td>Wow, I really wish you a safe and speedy recov...</td>\n",
       "      <td>4</td>\n",
       "    </tr>\n",
       "    <tr>\n",
       "      <th>...</th>\n",
       "      <td>...</td>\n",
       "      <td>...</td>\n",
       "    </tr>\n",
       "    <tr>\n",
       "      <th>39220</th>\n",
       "      <td>Get the antibodies, I would get help sooner th...</td>\n",
       "      <td>39220</td>\n",
       "    </tr>\n",
       "    <tr>\n",
       "      <th>39221</th>\n",
       "      <td>I'm late seeing this post, to the original pos...</td>\n",
       "      <td>39221</td>\n",
       "    </tr>\n",
       "    <tr>\n",
       "      <th>39222</th>\n",
       "      <td>91% isnâ€™t that bad. \\nYou really shouldnâ€™t...</td>\n",
       "      <td>39222</td>\n",
       "    </tr>\n",
       "    <tr>\n",
       "      <th>39223</th>\n",
       "      <td>Thank you for your submission!\\n\\nPlease remem...</td>\n",
       "      <td>39223</td>\n",
       "    </tr>\n",
       "    <tr>\n",
       "      <th>39224</th>\n",
       "      <td>No Comment</td>\n",
       "      <td>39224</td>\n",
       "    </tr>\n",
       "  </tbody>\n",
       "</table>\n",
       "<p>39225 rows × 2 columns</p>\n",
       "</div>"
      ],
      "text/plain": [
       "                                            post_content  index\n",
       "0      Hey, so Iâ€™m experiencing a burning sensation...      0\n",
       "1      Sounds like a panic attack. I had the same thi...      1\n",
       "2      I really hope so. Every time I think I have it...      2\n",
       "3      I tested POSITIVE for COVID19. I had something...      3\n",
       "4      Wow, I really wish you a safe and speedy recov...      4\n",
       "...                                                  ...    ...\n",
       "39220  Get the antibodies, I would get help sooner th...  39220\n",
       "39221  I'm late seeing this post, to the original pos...  39221\n",
       "39222  91% isnâ€™t that bad. \\nYou really shouldnâ€™t...  39222\n",
       "39223  Thank you for your submission!\\n\\nPlease remem...  39223\n",
       "39224                                         No Comment  39224\n",
       "\n",
       "[39225 rows x 2 columns]"
      ]
     },
     "execution_count": 5,
     "metadata": {},
     "output_type": "execute_result"
    }
   ],
   "source": [
    "df_lda['index'] = df_lda.index\n",
    "documents = df_lda\n",
    "documents"
   ]
  },
  {
   "cell_type": "code",
   "execution_count": 6,
   "metadata": {},
   "outputs": [],
   "source": [
    "def lemmatize_stemming(text):\n",
    "    stemmer = SnowballStemmer('english')\n",
    "    return stemmer.stem(WordNetLemmatizer().lemmatize(text, pos='v'))\n",
    "\n",
    "def preprocess(text):\n",
    "    result = []\n",
    "    for token in gensim.utils.simple_preprocess(text):\n",
    "        if token not in gensim.parsing.preprocessing.STOPWORDS and len(token) > 3:\n",
    "            result.append(lemmatize_stemming(token))\n",
    "    return result"
   ]
  },
  {
   "cell_type": "code",
   "execution_count": 7,
   "metadata": {},
   "outputs": [
    {
     "name": "stdout",
     "output_type": "stream",
     "text": [
      "original document: \n",
      "['Wow,', 'I', 'really', 'wish', 'you', 'a', 'safe', 'and', 'speedy', 'recovery.', 'How', 'long', 'have', 'you', 'been', 'positive?', 'Are', 'you', 'scared', 'that', 'you', 'might', 'need', 'to', 'go', 'to', 'the', 'ER?']\n",
      "\n",
      "\n",
      " tokenized and lemmatized document: \n",
      "['wish', 'safe', 'speedi', 'recoveri', 'long', 'posit', 'scar', 'need']\n"
     ]
    }
   ],
   "source": [
    "doc_sample = documents[documents['index'] == 4].values[0][0]\n",
    "\n",
    "print('original document: ')\n",
    "words = []\n",
    "for word in doc_sample.split(' '):\n",
    "    words.append(word)\n",
    "print(words)\n",
    "print('\\n\\n tokenized and lemmatized document: ')\n",
    "print(preprocess(doc_sample))"
   ]
  },
  {
   "cell_type": "code",
   "execution_count": 8,
   "metadata": {},
   "outputs": [
    {
     "data": {
      "text/plain": [
       "0        [experi, burn, sensat, right, middl, chest, co...\n",
       "1        [sound, like, panic, attack, thing, begin, iso...\n",
       "2        [hope, time, think, hold, breath, long, hold, ...\n",
       "3        [test, posit, covid, similar, lung, headach, f...\n",
       "4        [wish, safe, speedi, recoveri, long, posit, sc...\n",
       "                               ...                        \n",
       "39220               [antibodi, help, sooner, later, fight]\n",
       "39221    [late, see, post, origin, poster, share, stori...\n",
       "39222    [isnâ, shouldnâ, concern, reach, go, indic, yo...\n",
       "39223    [thank, submiss, rememb, read, rule, ensur, po...\n",
       "39224                                            [comment]\n",
       "Name: post_content, Length: 39225, dtype: object"
      ]
     },
     "execution_count": 8,
     "metadata": {},
     "output_type": "execute_result"
    }
   ],
   "source": [
    "processed_docs = documents['post_content'].map(preprocess)\n",
    "processed_docs"
   ]
  },
  {
   "cell_type": "markdown",
   "metadata": {},
   "source": [
    "#### BOW"
   ]
  },
  {
   "cell_type": "code",
   "execution_count": 9,
   "metadata": {},
   "outputs": [
    {
     "name": "stdout",
     "output_type": "stream",
     "text": [
      "0 burn\n",
      "1 chest\n",
      "2 cough\n",
      "3 covid\n",
      "4 experi\n",
      "5 havenâ\n",
      "6 middl\n",
      "7 overreact\n",
      "8 relat\n",
      "9 right\n",
      "10 sensat\n"
     ]
    }
   ],
   "source": [
    "dictionary = gensim.corpora.Dictionary(processed_docs)\n",
    "count = 0\n",
    "for k, v in dictionary.iteritems():\n",
    "    print(k, v)\n",
    "    count += 1\n",
    "    if count > 10:\n",
    "        break"
   ]
  },
  {
   "cell_type": "code",
   "execution_count": 10,
   "metadata": {},
   "outputs": [],
   "source": [
    "dictionary.filter_extremes(no_below=15, no_above=0.5, keep_n=100000)"
   ]
  },
  {
   "cell_type": "markdown",
   "metadata": {},
   "source": [
    "#### Gensim doc2bow"
   ]
  },
  {
   "cell_type": "code",
   "execution_count": 11,
   "metadata": {},
   "outputs": [
    {
     "data": {
      "text/plain": [
       "[(26, 1), (34, 1), (40, 1), (41, 1), (42, 1), (43, 1), (44, 1), (45, 1)]"
      ]
     },
     "execution_count": 11,
     "metadata": {},
     "output_type": "execute_result"
    }
   ],
   "source": [
    "bow_corpus = [dictionary.doc2bow(doc) for doc in processed_docs]\n",
    "bow_corpus[4]"
   ]
  },
  {
   "cell_type": "code",
   "execution_count": 12,
   "metadata": {},
   "outputs": [
    {
     "name": "stdout",
     "output_type": "stream",
     "text": [
      "Word 26 (\"long\") appears 1 time.\n",
      "Word 34 (\"posit\") appears 1 time.\n",
      "Word 40 (\"need\") appears 1 time.\n",
      "Word 41 (\"recoveri\") appears 1 time.\n",
      "Word 42 (\"safe\") appears 1 time.\n",
      "Word 43 (\"scar\") appears 1 time.\n",
      "Word 44 (\"speedi\") appears 1 time.\n",
      "Word 45 (\"wish\") appears 1 time.\n"
     ]
    }
   ],
   "source": [
    "bow_doc_4 = bow_corpus[4]\n",
    "for i in range(len(bow_doc_4)):\n",
    "    print(\"Word {} (\\\"{}\\\") appears {} time.\".format(bow_doc_4[i][0], \n",
    "                                               dictionary[bow_doc_4[i][0]], \n",
    "bow_doc_4[i][1]))"
   ]
  },
  {
   "cell_type": "markdown",
   "metadata": {},
   "source": [
    "#### TF-IDF"
   ]
  },
  {
   "cell_type": "code",
   "execution_count": 13,
   "metadata": {},
   "outputs": [
    {
     "name": "stdout",
     "output_type": "stream",
     "text": [
      "[(0, 0.29951182899564494),\n",
      " (1, 0.21307625924552023),\n",
      " (2, 0.1808139572961138),\n",
      " (3, 0.08913797316611903),\n",
      " (4, 0.19864173104101035),\n",
      " (5, 0.30057486181479814),\n",
      " (6, 0.36754224161804466),\n",
      " (7, 0.46602041636816205),\n",
      " (8, 0.2805825643439663),\n",
      " (9, 0.13259632023172582),\n",
      " (10, 0.34702545550302927),\n",
      " (11, 0.27137823820192175),\n",
      " (12, 0.19732614701792847),\n",
      " (13, 0.11343284853345226)]\n"
     ]
    }
   ],
   "source": [
    "from gensim import corpora, models\n",
    "tfidf = models.TfidfModel(bow_corpus)\n",
    "corpus_tfidf = tfidf[bow_corpus]\n",
    "from pprint import pprint\n",
    "for doc in corpus_tfidf:\n",
    "    pprint(doc)\n",
    "    break"
   ]
  },
  {
   "cell_type": "markdown",
   "metadata": {},
   "source": [
    "#### LDA using BOW"
   ]
  },
  {
   "cell_type": "code",
   "execution_count": 14,
   "metadata": {},
   "outputs": [],
   "source": [
    "lda_model = gensim.models.LdaMulticore(bow_corpus, num_topics=10, id2word=dictionary, passes=2, workers=2)"
   ]
  },
  {
   "cell_type": "code",
   "execution_count": 15,
   "metadata": {},
   "outputs": [
    {
     "name": "stdout",
     "output_type": "stream",
     "text": [
      "Topic: 0 \n",
      "Words: 0.058*\"time\" + 0.032*\"thank\" + 0.030*\"comment\" + 0.030*\"hand\" + 0.030*\"rule\" + 0.030*\"question\" + 0.030*\"post\" + 0.029*\"kind\" + 0.029*\"read\" + 0.029*\"concern\"\n",
      "Topic: 1 \n",
      "Words: 0.057*\"test\" + 0.027*\"posit\" + 0.020*\"negat\" + 0.013*\"time\" + 0.013*\"virus\" + 0.012*\"day\" + 0.012*\"symptom\" + 0.012*\"go\" + 0.012*\"week\" + 0.011*\"work\"\n",
      "Topic: 2 \n",
      "Words: 0.063*\"https\" + 0.052*\"remov\" + 0.046*\"covid\" + 0.034*\"post\" + 0.032*\"reddit\" + 0.020*\"posit\" + 0.020*\"comment\" + 0.017*\"messag\" + 0.015*\"articl\" + 0.014*\"question\"\n",
      "Topic: 3 \n",
      "Words: 0.063*\"smell\" + 0.044*\"tast\" + 0.019*\"like\" + 0.018*\"lose\" + 0.018*\"covid\" + 0.016*\"sens\" + 0.015*\"thing\" + 0.014*\"symptom\" + 0.011*\"test\" + 0.010*\"posit\"\n",
      "Topic: 4 \n",
      "Words: 0.045*\"covid\" + 0.039*\"test\" + 0.016*\"posit\" + 0.015*\"symptom\" + 0.013*\"vaccin\" + 0.012*\"antibodi\" + 0.010*\"think\" + 0.010*\"infect\" + 0.009*\"peopl\" + 0.009*\"get\"\n",
      "Topic: 5 \n",
      "Words: 0.040*\"test\" + 0.040*\"symptom\" + 0.026*\"fever\" + 0.024*\"cough\" + 0.023*\"day\" + 0.020*\"feel\" + 0.017*\"throat\" + 0.017*\"posit\" + 0.013*\"headach\" + 0.013*\"sore\"\n",
      "Topic: 6 \n",
      "Words: 0.029*\"pain\" + 0.026*\"feel\" + 0.025*\"like\" + 0.019*\"symptom\" + 0.016*\"go\" + 0.015*\"covid\" + 0.015*\"chest\" + 0.012*\"think\" + 0.010*\"anxieti\" + 0.009*\"week\"\n",
      "Topic: 7 \n",
      "Words: 0.018*\"like\" + 0.018*\"feel\" + 0.017*\"breath\" + 0.014*\"go\" + 0.013*\"week\" + 0.012*\"heart\" + 0.011*\"sleep\" + 0.010*\"time\" + 0.009*\"lung\" + 0.009*\"help\"\n",
      "Topic: 8 \n",
      "Words: 0.025*\"peopl\" + 0.019*\"vaccin\" + 0.016*\"know\" + 0.013*\"thank\" + 0.011*\"covid\" + 0.010*\"mask\" + 0.009*\"think\" + 0.009*\"like\" + 0.009*\"work\" + 0.008*\"go\"\n",
      "Topic: 9 \n",
      "Words: 0.018*\"feel\" + 0.018*\"better\" + 0.015*\"help\" + 0.014*\"like\" + 0.013*\"symptom\" + 0.013*\"hope\" + 0.011*\"vitamin\" + 0.011*\"think\" + 0.011*\"week\" + 0.010*\"good\"\n"
     ]
    }
   ],
   "source": [
    "for idx, topic in lda_model.print_topics(-1):\n",
    "    print('Topic: {} \\nWords: {}'.format(idx, topic))"
   ]
  },
  {
   "cell_type": "markdown",
   "metadata": {},
   "source": [
    "#### LDA using TF-IDF"
   ]
  },
  {
   "cell_type": "code",
   "execution_count": 16,
   "metadata": {},
   "outputs": [
    {
     "name": "stdout",
     "output_type": "stream",
     "text": [
      "Topic: 0 Word: 0.145*\"delet\" + 0.114*\"remov\" + 0.069*\"thank\" + 0.013*\"vaccin\" + 0.008*\"share\" + 0.006*\"better\" + 0.006*\"respons\" + 0.005*\"time\" + 0.005*\"trump\" + 0.005*\"covid\"\n",
      "Topic: 1 Word: 0.014*\"thread\" + 0.013*\"chat\" + 0.012*\"situat\" + 0.012*\"allow\" + 0.011*\"experi\" + 0.011*\"current\" + 0.010*\"place\" + 0.010*\"glad\" + 0.009*\"post\" + 0.009*\"covid\"\n",
      "Topic: 2 Word: 0.006*\"send\" + 0.006*\"symptom\" + 0.006*\"good\" + 0.006*\"peopl\" + 0.005*\"sorri\" + 0.005*\"feel\" + 0.005*\"know\" + 0.005*\"test\" + 0.005*\"day\" + 0.005*\"like\"\n",
      "Topic: 3 Word: 0.042*\"time\" + 0.035*\"comment\" + 0.030*\"despair\" + 0.030*\"align\" + 0.030*\"automat\" + 0.030*\"perform\" + 0.030*\"purpos\" + 0.030*\"toler\" + 0.030*\"submiss\" + 0.030*\"ensur\"\n",
      "Topic: 4 Word: 0.008*\"hope\" + 0.008*\"feel\" + 0.007*\"symptom\" + 0.007*\"better\" + 0.007*\"test\" + 0.006*\"know\" + 0.006*\"peopl\" + 0.006*\"long\" + 0.005*\"soon\" + 0.005*\"like\"\n",
      "Topic: 5 Word: 0.007*\"like\" + 0.007*\"peopl\" + 0.006*\"mask\" + 0.005*\"feel\" + 0.005*\"covid\" + 0.005*\"know\" + 0.005*\"think\" + 0.004*\"test\" + 0.004*\"need\" + 0.004*\"help\"\n",
      "Topic: 6 Word: 0.014*\"smell\" + 0.012*\"tast\" + 0.011*\"test\" + 0.011*\"symptom\" + 0.009*\"feel\" + 0.009*\"day\" + 0.008*\"fever\" + 0.008*\"like\" + 0.008*\"week\" + 0.008*\"cough\"\n",
      "Topic: 7 Word: 0.015*\"https\" + 0.008*\"covid\" + 0.008*\"reddit\" + 0.007*\"news\" + 0.006*\"mask\" + 0.006*\"agre\" + 0.006*\"thank\" + 0.006*\"post\" + 0.006*\"posit\" + 0.006*\"time\"\n",
      "Topic: 8 Word: 0.030*\"test\" + 0.021*\"sorri\" + 0.016*\"symptom\" + 0.014*\"negat\" + 0.013*\"day\" + 0.012*\"loss\" + 0.011*\"posit\" + 0.011*\"updat\" + 0.010*\"hear\" + 0.007*\"month\"\n",
      "Topic: 9 Word: 0.011*\"youâ\" + 0.011*\"test\" + 0.011*\"thank\" + 0.008*\"think\" + 0.008*\"doctor\" + 0.006*\"vitamin\" + 0.006*\"know\" + 0.006*\"okay\" + 0.006*\"check\" + 0.006*\"tell\"\n"
     ]
    }
   ],
   "source": [
    "lda_model_tfidf = gensim.models.LdaMulticore(corpus_tfidf, num_topics=10, id2word=dictionary, passes=2, workers=4)\n",
    "for idx, topic in lda_model_tfidf.print_topics(-1):\n",
    "    print('Topic: {} Word: {}'.format(idx, topic))"
   ]
  },
  {
   "cell_type": "code",
   "execution_count": 17,
   "metadata": {},
   "outputs": [
    {
     "data": {
      "text/plain": [
       "['wish', 'safe', 'speedi', 'recoveri', 'long', 'posit', 'scar', 'need']"
      ]
     },
     "execution_count": 17,
     "metadata": {},
     "output_type": "execute_result"
    }
   ],
   "source": [
    "processed_docs[4]"
   ]
  },
  {
   "cell_type": "code",
   "execution_count": 18,
   "metadata": {},
   "outputs": [
    {
     "name": "stdout",
     "output_type": "stream",
     "text": [
      "\n",
      "Score: 0.8999717831611633\t \n",
      "Topic: 0.025*\"peopl\" + 0.019*\"vaccin\" + 0.016*\"know\" + 0.013*\"thank\" + 0.011*\"covid\" + 0.010*\"mask\" + 0.009*\"think\" + 0.009*\"like\" + 0.009*\"work\" + 0.008*\"go\"\n",
      "\n",
      "Score: 0.011115719564259052\t \n",
      "Topic: 0.057*\"test\" + 0.027*\"posit\" + 0.020*\"negat\" + 0.013*\"time\" + 0.013*\"virus\" + 0.012*\"day\" + 0.012*\"symptom\" + 0.012*\"go\" + 0.012*\"week\" + 0.011*\"work\"\n",
      "\n",
      "Score: 0.011115282773971558\t \n",
      "Topic: 0.058*\"time\" + 0.032*\"thank\" + 0.030*\"comment\" + 0.030*\"hand\" + 0.030*\"rule\" + 0.030*\"question\" + 0.030*\"post\" + 0.029*\"kind\" + 0.029*\"read\" + 0.029*\"concern\"\n",
      "\n",
      "Score: 0.011114761233329773\t \n",
      "Topic: 0.045*\"covid\" + 0.039*\"test\" + 0.016*\"posit\" + 0.015*\"symptom\" + 0.013*\"vaccin\" + 0.012*\"antibodi\" + 0.010*\"think\" + 0.010*\"infect\" + 0.009*\"peopl\" + 0.009*\"get\"\n",
      "\n",
      "Score: 0.011114525608718395\t \n",
      "Topic: 0.063*\"https\" + 0.052*\"remov\" + 0.046*\"covid\" + 0.034*\"post\" + 0.032*\"reddit\" + 0.020*\"posit\" + 0.020*\"comment\" + 0.017*\"messag\" + 0.015*\"articl\" + 0.014*\"question\"\n",
      "\n",
      "Score: 0.011114401742815971\t \n",
      "Topic: 0.040*\"test\" + 0.040*\"symptom\" + 0.026*\"fever\" + 0.024*\"cough\" + 0.023*\"day\" + 0.020*\"feel\" + 0.017*\"throat\" + 0.017*\"posit\" + 0.013*\"headach\" + 0.013*\"sore\"\n",
      "\n",
      "Score: 0.011114035733044147\t \n",
      "Topic: 0.018*\"feel\" + 0.018*\"better\" + 0.015*\"help\" + 0.014*\"like\" + 0.013*\"symptom\" + 0.013*\"hope\" + 0.011*\"vitamin\" + 0.011*\"think\" + 0.011*\"week\" + 0.010*\"good\"\n",
      "\n",
      "Score: 0.011113966815173626\t \n",
      "Topic: 0.063*\"smell\" + 0.044*\"tast\" + 0.019*\"like\" + 0.018*\"lose\" + 0.018*\"covid\" + 0.016*\"sens\" + 0.015*\"thing\" + 0.014*\"symptom\" + 0.011*\"test\" + 0.010*\"posit\"\n",
      "\n",
      "Score: 0.011112771928310394\t \n",
      "Topic: 0.029*\"pain\" + 0.026*\"feel\" + 0.025*\"like\" + 0.019*\"symptom\" + 0.016*\"go\" + 0.015*\"covid\" + 0.015*\"chest\" + 0.012*\"think\" + 0.010*\"anxieti\" + 0.009*\"week\"\n",
      "\n",
      "Score: 0.011112714186310768\t \n",
      "Topic: 0.018*\"like\" + 0.018*\"feel\" + 0.017*\"breath\" + 0.014*\"go\" + 0.013*\"week\" + 0.012*\"heart\" + 0.011*\"sleep\" + 0.010*\"time\" + 0.009*\"lung\" + 0.009*\"help\"\n"
     ]
    }
   ],
   "source": [
    "for index, score in sorted(lda_model[bow_corpus[4]], key=lambda tup: -1*tup[1]):\n",
    "    print(\"\\nScore: {}\\t \\nTopic: {}\".format(score, lda_model.print_topic(index, 10)))"
   ]
  },
  {
   "cell_type": "code",
   "execution_count": 19,
   "metadata": {},
   "outputs": [
    {
     "name": "stdout",
     "output_type": "stream",
     "text": [
      "\n",
      "Score: 0.8999677300453186\t \n",
      "Topic: 0.014*\"thread\" + 0.013*\"chat\" + 0.012*\"situat\" + 0.012*\"allow\" + 0.011*\"experi\" + 0.011*\"current\" + 0.010*\"place\" + 0.010*\"glad\" + 0.009*\"post\" + 0.009*\"covid\"\n",
      "\n",
      "Score: 0.011117454618215561\t \n",
      "Topic: 0.008*\"hope\" + 0.008*\"feel\" + 0.007*\"symptom\" + 0.007*\"better\" + 0.007*\"test\" + 0.006*\"know\" + 0.006*\"peopl\" + 0.006*\"long\" + 0.005*\"soon\" + 0.005*\"like\"\n",
      "\n",
      "Score: 0.0111150573939085\t \n",
      "Topic: 0.011*\"youâ\" + 0.011*\"test\" + 0.011*\"thank\" + 0.008*\"think\" + 0.008*\"doctor\" + 0.006*\"vitamin\" + 0.006*\"know\" + 0.006*\"okay\" + 0.006*\"check\" + 0.006*\"tell\"\n",
      "\n",
      "Score: 0.011114881373941898\t \n",
      "Topic: 0.006*\"send\" + 0.006*\"symptom\" + 0.006*\"good\" + 0.006*\"peopl\" + 0.005*\"sorri\" + 0.005*\"feel\" + 0.005*\"know\" + 0.005*\"test\" + 0.005*\"day\" + 0.005*\"like\"\n",
      "\n",
      "Score: 0.011114859953522682\t \n",
      "Topic: 0.030*\"test\" + 0.021*\"sorri\" + 0.016*\"symptom\" + 0.014*\"negat\" + 0.013*\"day\" + 0.012*\"loss\" + 0.011*\"posit\" + 0.011*\"updat\" + 0.010*\"hear\" + 0.007*\"month\"\n",
      "\n",
      "Score: 0.011114725843071938\t \n",
      "Topic: 0.014*\"smell\" + 0.012*\"tast\" + 0.011*\"test\" + 0.011*\"symptom\" + 0.009*\"feel\" + 0.009*\"day\" + 0.008*\"fever\" + 0.008*\"like\" + 0.008*\"week\" + 0.008*\"cough\"\n",
      "\n",
      "Score: 0.011114596389234066\t \n",
      "Topic: 0.007*\"like\" + 0.007*\"peopl\" + 0.006*\"mask\" + 0.005*\"feel\" + 0.005*\"covid\" + 0.005*\"know\" + 0.005*\"think\" + 0.004*\"test\" + 0.004*\"need\" + 0.004*\"help\"\n",
      "\n",
      "Score: 0.011113745160400867\t \n",
      "Topic: 0.015*\"https\" + 0.008*\"covid\" + 0.008*\"reddit\" + 0.007*\"news\" + 0.006*\"mask\" + 0.006*\"agre\" + 0.006*\"thank\" + 0.006*\"post\" + 0.006*\"posit\" + 0.006*\"time\"\n",
      "\n",
      "Score: 0.011113717220723629\t \n",
      "Topic: 0.042*\"time\" + 0.035*\"comment\" + 0.030*\"despair\" + 0.030*\"align\" + 0.030*\"automat\" + 0.030*\"perform\" + 0.030*\"purpos\" + 0.030*\"toler\" + 0.030*\"submiss\" + 0.030*\"ensur\"\n",
      "\n",
      "Score: 0.011113201268017292\t \n",
      "Topic: 0.145*\"delet\" + 0.114*\"remov\" + 0.069*\"thank\" + 0.013*\"vaccin\" + 0.008*\"share\" + 0.006*\"better\" + 0.006*\"respons\" + 0.005*\"time\" + 0.005*\"trump\" + 0.005*\"covid\"\n"
     ]
    }
   ],
   "source": [
    "for index, score in sorted(lda_model_tfidf[bow_corpus[4]], key=lambda tup: -1*tup[1]):\n",
    "    print(\"\\nScore: {}\\t \\nTopic: {}\".format(score, lda_model_tfidf.print_topic(index, 10)))"
   ]
  },
  {
   "cell_type": "code",
   "execution_count": 20,
   "metadata": {},
   "outputs": [
    {
     "name": "stdout",
     "output_type": "stream",
     "text": [
      "Score: 0.8196550607681274\t Topic: 0.029*\"pain\" + 0.026*\"feel\" + 0.025*\"like\" + 0.019*\"symptom\" + 0.016*\"go\"\n",
      "Score: 0.020045502111315727\t Topic: 0.045*\"covid\" + 0.039*\"test\" + 0.016*\"posit\" + 0.015*\"symptom\" + 0.013*\"vaccin\"\n",
      "Score: 0.0200448427349329\t Topic: 0.025*\"peopl\" + 0.019*\"vaccin\" + 0.016*\"know\" + 0.013*\"thank\" + 0.011*\"covid\"\n",
      "Score: 0.020043659955263138\t Topic: 0.063*\"https\" + 0.052*\"remov\" + 0.046*\"covid\" + 0.034*\"post\" + 0.032*\"reddit\"\n",
      "Score: 0.020038286224007607\t Topic: 0.018*\"feel\" + 0.018*\"better\" + 0.015*\"help\" + 0.014*\"like\" + 0.013*\"symptom\"\n",
      "Score: 0.02003522589802742\t Topic: 0.040*\"test\" + 0.040*\"symptom\" + 0.026*\"fever\" + 0.024*\"cough\" + 0.023*\"day\"\n",
      "Score: 0.020034868270158768\t Topic: 0.018*\"like\" + 0.018*\"feel\" + 0.017*\"breath\" + 0.014*\"go\" + 0.013*\"week\"\n",
      "Score: 0.020034784451127052\t Topic: 0.063*\"smell\" + 0.044*\"tast\" + 0.019*\"like\" + 0.018*\"lose\" + 0.018*\"covid\"\n",
      "Score: 0.020034460350871086\t Topic: 0.057*\"test\" + 0.027*\"posit\" + 0.020*\"negat\" + 0.013*\"time\" + 0.013*\"virus\"\n",
      "Score: 0.02003326453268528\t Topic: 0.058*\"time\" + 0.032*\"thank\" + 0.030*\"comment\" + 0.030*\"hand\" + 0.030*\"rule\"\n"
     ]
    }
   ],
   "source": [
    "unseen_document = 'How a Pentagon deal became an identity crisis for Google'\n",
    "bow_vector = dictionary.doc2bow(preprocess(unseen_document))\n",
    "for index, score in sorted(lda_model[bow_vector], key=lambda tup: -1*tup[1]):\n",
    "    print(\"Score: {}\\t Topic: {}\".format(score, lda_model.print_topic(index, 5)))"
   ]
  },
  {
   "cell_type": "code",
   "execution_count": 24,
   "metadata": {},
   "outputs": [],
   "source": [
    "dtm_tfidf = np.zeros((39225,10), dtype=float)\n",
    "\n",
    "row = 0\n",
    "for doc in bow_corpus[0:39225]:\n",
    "    sm = lda_model_tfidf.get_document_topics(doc)\n",
    "    for e in sm:\n",
    "        dtm_tfidf[row,e[0]] = e[1]\n",
    "    row = row + 1\n",
    "    \n",
    "cp_tfidf = pd.DataFrame(dtm_tfidf)\n",
    "\n",
    "cp_tfidf.columns = ['Topic1', 'Topic2', 'Topic3', 'Topic4', 'Topic5', 'Topic6', 'Topic7', 'Topic8', 'Topic9', 'Topic10'] \n",
    "cp_tfidf.insert(0, 'post_content', documents.post_content)\n",
    "\n",
    "cp_tfidf.to_csv(\"Doc_Out_TF-IDF.csv\")"
   ]
  },
  {
   "cell_type": "code",
   "execution_count": 25,
   "metadata": {},
   "outputs": [],
   "source": [
    "dtm_bow = np.zeros((39225,10), dtype=float)\n",
    "\n",
    "row1 = 0\n",
    "for doc1 in bow_corpus[0:39225]:\n",
    "    sm1 = lda_model.get_document_topics(doc1)\n",
    "    for e1 in sm1:\n",
    "        dtm_bow[row1,e1[0]] = e1[1]\n",
    "    row1 = row1 + 1\n",
    "    \n",
    "cp_bow = pd.DataFrame(dtm_bow)\n",
    "\n",
    "cp_bow.columns = ['Topic1', 'Topic2', 'Topic3', 'Topic4', 'Topic5', 'Topic6', 'Topic7', 'Topic8', 'Topic9', 'Topic10'] \n",
    "cp_bow.insert(0, 'post_content', documents.post_content)\n",
    "\n",
    "cp_bow.to_csv(\"Doc_Out_BOW.csv\")"
   ]
  },
  {
   "cell_type": "code",
   "execution_count": null,
   "metadata": {},
   "outputs": [],
   "source": [
    "final_out = pd.DataFrame(columns=['Reference', 'Score', 'Index Values'])"
   ]
  },
  {
   "cell_type": "code",
   "execution_count": null,
   "metadata": {},
   "outputs": [],
   "source": [
    "dict_out = {}\n",
    "for k in range(1000):\n",
    "    ordered_vocab = [(term, voc) for term, voc in lda_model_tfidf[bow_corpus[k]]]\n",
    "    ordered_vocab = sorted(ordered_vocab, key=lambda tup: -1*tup[1])\n",
    "\n",
    "    for index, score in ordered_vocab:\n",
    "        dict_out.update({score: lda_model_tfidf.print_topic(index, 10)})\n",
    "        \n",
    "    temp = pd.DataFrame(dict_out.items(), columns=['Score', 'Index Values'])\n",
    "    temp['Reference'] = k\n",
    "    final_out = final_out.append(temp)\n",
    "    del temp"
   ]
  },
  {
   "cell_type": "markdown",
   "metadata": {},
   "source": [
    "### Note: \"Index\" column from \"documents\" dataframe maps to the \"Reference\" column in the \"final_out\" dataframe"
   ]
  },
  {
   "cell_type": "markdown",
   "metadata": {},
   "source": [
    "#### Unused Code"
   ]
  },
  {
   "cell_type": "code",
   "execution_count": null,
   "metadata": {},
   "outputs": [],
   "source": [
    "# df_lda['index'] = df_lda.index\n",
    "\n",
    "# df_lda.drop('index', axis=1, inplace=True)\n",
    "# df_lda.index.name\n",
    "# df_lda.columns.name = 'index'\n",
    "\n",
    "# ordered_vocab = [(term, voc.index, voc.count) for term, voc in model.wv.vocab.items()]\n",
    "# ordered_vocab = sorted(ordered_vocab, key=lambda k: k[2])\n",
    "# ordered_terms, term_indices, term_counts = zip(*ordered_vocab)\n",
    "# word_vectors = pd.DataFrame(model.wv.syn0[term_indices, :], index=ordered_terms)\n",
    "\n",
    "# ordered_vocab = [(term, voc) for term, voc in lda_model_tfidf[bow_corpus[10]]]\n",
    "# ordered_vocab = sorted(ordered_vocab, key=lambda tup: -1*tup[1])\n",
    "\n",
    "# df1 = pd.DataFrame([{score: lda_model_tfidf.print_topic(index, 10)} for index, score in ordered_vocab])\n",
    "\n",
    "# df2 = pd.DataFrame(list(ordered_vocab))\n",
    "\n",
    "# for i,k in dict_out.items():\n",
    "#     print(i,k)\n",
    "\n",
    "# df_out = pd.DataFrame(dict_out.items(), columns=['Score', 'Index Values'])\n",
    "\n",
    "# dict_out = {}\n",
    "# for index, score in ordered_vocab:\n",
    "#     dict_out.update({score: lda_model_tfidf.print_topic(index, 10)})\n",
    "\n",
    "# final_out.to_csv(\"Final_Out.csv\")\n",
    "# documents.to_csv(\"Post_Content.csv\")"
   ]
  }
 ],
 "metadata": {
  "kernelspec": {
   "display_name": "Python 3",
   "language": "python",
   "name": "python3"
  },
  "language_info": {
   "codemirror_mode": {
    "name": "ipython",
    "version": 3
   },
   "file_extension": ".py",
   "mimetype": "text/x-python",
   "name": "python",
   "nbconvert_exporter": "python",
   "pygments_lexer": "ipython3",
   "version": "3.8.3"
  }
 },
 "nbformat": 4,
 "nbformat_minor": 4
}
